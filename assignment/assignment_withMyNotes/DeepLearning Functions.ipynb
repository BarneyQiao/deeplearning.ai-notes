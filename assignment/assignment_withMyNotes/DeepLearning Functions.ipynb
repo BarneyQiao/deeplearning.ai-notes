{
 "cells": [
  {
   "cell_type": "markdown",
   "metadata": {},
   "source": [
    "# 本门课用到的函数积累"
   ]
  },
  {
   "cell_type": "markdown",
   "metadata": {},
   "source": [
    "本笔记用于学到的包函数积累"
   ]
  },
  {
   "cell_type": "markdown",
   "metadata": {},
   "source": [
    "## Numpy包"
   ]
  },
  {
   "cell_type": "markdown",
   "metadata": {},
   "source": [
    "### np.linalg.norm(..., ord = 2, axis = ..., keepdims = True)"
   ]
  },
  {
   "cell_type": "markdown",
   "metadata": {},
   "source": [
    "这个函数主要是用于标准化。\n",
    "- 其中ord参数指的是使用的函数\n",
    "- axis指的是返回的形状 0 列 1 行\n",
    "- keepdims 指的是时候返回的时候保持形状 False的话，返回的可能不是原矩阵形状\n",
    "这里看出，x是一个2行3列的numpy数组（矩阵），按照每一行进行求范数axis=1，所以这里注意，在numpy中的数组[]里面表示的是一个行向量。\n",
    "可以这样记：axis指的保留行，计算的是列，keepdims指的是保持行"
   ]
  },
  {
   "cell_type": "code",
   "execution_count": 2,
   "metadata": {
    "ExecuteTime": {
     "end_time": "2019-10-26T02:02:15.387346Z",
     "start_time": "2019-10-26T02:02:15.383357Z"
    }
   },
   "outputs": [
    {
     "name": "stdout",
     "output_type": "stream",
     "text": [
      "x shape: (2, 3)\n",
      "x_norm shape: (2, 1)\n",
      "x_result shape: (2, 3)\n"
     ]
    }
   ],
   "source": [
    "import numpy as np\n",
    "x = np.array([\n",
    "    [0, 3, 4],\n",
    "    [1, 6, 4]])\n",
    "x_norm = np.linalg.norm(x,axis=1,keepdims=True)# 默认ord为2阶函数\n",
    "x_result = x/x_norm\n",
    "print(\"x shape:\",x.shape)\n",
    "print(\"x_norm shape:\",x_norm.shape)\n",
    "print(\"x_result shape:\",x_result.shape)"
   ]
  },
  {
   "cell_type": "markdown",
   "metadata": {},
   "source": [
    "### time.process_time()  # process_time函数返回的是CPU的有效时间，不包括空闲时间"
   ]
  },
  {
   "cell_type": "markdown",
   "metadata": {},
   "source": [
    "time包中常用的就是获取一段程序运算的时间，但是计算除CPU的有效时间更精准的\n",
    "获取时间是以微秒计算的，乘1000才是毫秒ms"
   ]
  },
  {
   "cell_type": "code",
   "execution_count": 9,
   "metadata": {
    "ExecuteTime": {
     "end_time": "2019-10-26T02:12:05.189202Z",
     "start_time": "2019-10-26T02:11:51.611130Z"
    }
   },
   "outputs": [
    {
     "name": "stdout",
     "output_type": "stream",
     "text": [
      "sum: 4999999950000000\n",
      "time result(ms): 13578.125\n"
     ]
    }
   ],
   "source": [
    "import time\n",
    "tic = time.process_time()\n",
    "i = 0\n",
    "sum = 0\n",
    "while(i<100000000):\n",
    "    sum = sum +i *1\n",
    "    i+=1\n",
    "print(\"sum:\",sum)\n",
    "toc = time.process_time()\n",
    "print(\"time result(ms):\",(toc-tic)*1000)"
   ]
  },
  {
   "cell_type": "markdown",
   "metadata": {},
   "source": [
    "### numpy中的乘法"
   ]
  },
  {
   "cell_type": "markdown",
   "metadata": {},
   "source": [
    "- 这里学习以下几个函数：\n",
    "- np.dot()，求两个向量的内积  1\\*n  乘 n\\*1\n",
    "- np.outer() , 求两个向量的外积  n\\*1 乘 1\\*n  得到n\\*n\n",
    "- np.multipy(), 一个向量对应相乘"
   ]
  },
  {
   "cell_type": "code",
   "execution_count": 11,
   "metadata": {
    "ExecuteTime": {
     "end_time": "2019-10-26T02:18:39.208637Z",
     "start_time": "2019-10-26T02:18:39.203652Z"
    }
   },
   "outputs": [
    {
     "name": "stdout",
     "output_type": "stream",
     "text": [
      "dot: 11\n",
      "outer: [[3 4]\n",
      " [6 8]]\n",
      "multiply: [3 8]\n"
     ]
    }
   ],
   "source": [
    "import numpy as np\n",
    "x = np.array([1,2])\n",
    "y = np.array([3,4])\n",
    "print(\"dot:\",np.dot(x,y))\n",
    "print(\"outer:\",np.outer(x,y))\n",
    "print(\"multiply:\",np.multiply(x,y))"
   ]
  },
  {
   "cell_type": "markdown",
   "metadata": {},
   "source": [
    "### numpy.squeeze(a, axis=None)"
   ]
  },
  {
   "cell_type": "markdown",
   "metadata": {},
   "source": [
    "这个函数是从矩阵shape中，去掉维度为1的。例如一个矩阵是的shape是（5， 1），使用过这个函数后，结果为（5，）。\n",
    "\n",
    "参数：\n",
    "- a是输入的矩阵\n",
    "- axis : 选择shape中的一维条目的子集。如果在shape大于1的情况下设置axis，则会引发错误。"
   ]
  },
  {
   "cell_type": "code",
   "execution_count": null,
   "metadata": {},
   "outputs": [],
   "source": [
    ">>> x = np.array([[[0], [1], [2]]])\n",
    ">>> x.shape\n",
    "(1, 3, 1)\n",
    ">>> np.squeeze(x).shape\n",
    "(3,)\n",
    ">>> np.squeeze(x, axis=(2,)).shape\n",
    "(1, 3)"
   ]
  },
  {
   "cell_type": "markdown",
   "metadata": {},
   "source": [
    "### np.random.seed(1)"
   ]
  },
  {
   "cell_type": "markdown",
   "metadata": {},
   "source": [
    "其实就是为了设定一个种子(参数),参数值不重要，但是相同参数下生成的随机数是一样的，但是注意seed是有作用域的。\n",
    "\n",
    "个人理解就是只要设定了同一个参数，那么这个随机出来的数都是一样的。"
   ]
  },
  {
   "cell_type": "code",
   "execution_count": 8,
   "metadata": {
    "ExecuteTime": {
     "end_time": "2019-10-26T17:33:01.995702Z",
     "start_time": "2019-10-26T17:33:01.971865Z"
    }
   },
   "outputs": [
    {
     "data": {
      "text/plain": [
       "array([[ 1.62434536, -0.61175641]])"
      ]
     },
     "execution_count": 8,
     "metadata": {},
     "output_type": "execute_result"
    }
   ],
   "source": [
    "import numpy as np\n",
    "np.random.seed(1) #如果不加这一句话，每次随机都是不同的值\n",
    "\n",
    "np.random.randn(1,2)"
   ]
  },
  {
   "cell_type": "markdown",
   "metadata": {},
   "source": [
    "### np.random.rand()相关函数"
   ]
  },
  {
   "cell_type": "markdown",
   "metadata": {},
   "source": [
    "np.random.rand(d0,d1...,dn)\n",
    "- 根据维度生成[0,1)之间的数据，注意包括0但是不包含1\n",
    "- dn代表生成的维度\n",
    "- 返回值为指定维度的array"
   ]
  },
  {
   "cell_type": "markdown",
   "metadata": {},
   "source": [
    "np.random.randn(d0,d1,..dn)\n",
    "\n",
    "- 返回一组样本，具有正态分布\n",
    "- 其他的和上面的函数一样"
   ]
  },
  {
   "cell_type": "markdown",
   "metadata": {},
   "source": [
    "np.random.randint(low,high=None,size=None,dtype='l')\n",
    "\n",
    "- 返回随机整数，范围为[low,high)\n",
    "- size为维度大小\n",
    "- dtype为数据类型，默认是np.int\n",
    "- high不给值的话，默认是[0,low)"
   ]
  },
  {
   "cell_type": "code",
   "execution_count": 12,
   "metadata": {
    "ExecuteTime": {
     "end_time": "2019-10-26T17:43:07.304104Z",
     "start_time": "2019-10-26T17:43:07.294220Z"
    }
   },
   "outputs": [
    {
     "name": "stdout",
     "output_type": "stream",
     "text": [
      "[[0.55868983 0.14038694]]\n",
      "[[ 0.56434487 -0.56651023]]\n",
      "[2 4 4 2 3]\n"
     ]
    }
   ],
   "source": [
    "import numpy as np\n",
    "print(np.random.rand(1,2))\n",
    "print(np.random.randn(1,2))\n",
    "print(np.random.randint(1,5,size=5))"
   ]
  },
  {
   "cell_type": "markdown",
   "metadata": {},
   "source": [
    "### np.linspace()"
   ]
  },
  {
   "cell_type": "markdown",
   "metadata": {},
   "source": [
    "指定间隔内返回均匀的数字，看例子"
   ]
  },
  {
   "cell_type": "code",
   "execution_count": 14,
   "metadata": {
    "ExecuteTime": {
     "end_time": "2019-10-26T18:14:18.709168Z",
     "start_time": "2019-10-26T18:14:18.691580Z"
    }
   },
   "outputs": [
    {
     "name": "stdout",
     "output_type": "stream",
     "text": [
      "[2.   2.25 2.5  2.75 3.  ]\n",
      "[2.  2.2 2.4 2.6 2.8]\n",
      "(array([2.  , 2.25, 2.5 , 2.75, 3.  ]), 0.25)\n"
     ]
    }
   ],
   "source": [
    "import numpy as np\n",
    "print(np.linspace(2.0, 3.0, num=5)) #[2,3]均匀5个点\n",
    "print(np.linspace(2.0, 3.0, num=5, endpoint=False))#[2,3)均匀5个点\n",
    "print(np.linspace(2.0, 3.0, num=5, retstep=True))# 返回一个元组，包含步长"
   ]
  },
  {
   "cell_type": "markdown",
   "metadata": {},
   "source": [
    "### np.c_和np.r_"
   ]
  },
  {
   "cell_type": "markdown",
   "metadata": {},
   "source": [
    "- np.r_是按列连接两个矩阵，就是把两个矩阵上下相加，要求列数相等\n",
    "- np.c_是按行连接两个矩阵，就是把两个矩阵左右相加，要求行数相等"
   ]
  },
  {
   "cell_type": "code",
   "execution_count": 17,
   "metadata": {
    "ExecuteTime": {
     "end_time": "2019-10-26T18:43:50.793770Z",
     "start_time": "2019-10-26T18:43:50.770672Z"
    }
   },
   "outputs": [
    {
     "name": "stdout",
     "output_type": "stream",
     "text": [
      "[[1 2 3]\n",
      " [7 8 9]]\n",
      "[[4 5 6]\n",
      " [1 2 3]]\n",
      "[[1 2 3 4 5 6]\n",
      " [7 8 9 1 2 3]]\n",
      "[[1 2 3]\n",
      " [7 8 9]\n",
      " [4 5 6]\n",
      " [1 2 3]]\n"
     ]
    }
   ],
   "source": [
    "import numpy as np\n",
    "a = np.array([[1, 2, 3],[7,8,9]])\n",
    "b=np.array([[4,5,6],[1,2,3]])\n",
    "print(a)\n",
    "print(b)\n",
    "print(np.c_[a,b])\n",
    "print(np.r_[a,b])"
   ]
  },
  {
   "cell_type": "code",
   "execution_count": null,
   "metadata": {},
   "outputs": [],
   "source": []
  },
  {
   "cell_type": "markdown",
   "metadata": {},
   "source": [
    "### np.linspace()"
   ]
  },
  {
   "cell_type": "code",
   "execution_count": null,
   "metadata": {},
   "outputs": [],
   "source": []
  },
  {
   "cell_type": "code",
   "execution_count": null,
   "metadata": {},
   "outputs": [],
   "source": []
  },
  {
   "cell_type": "code",
   "execution_count": null,
   "metadata": {},
   "outputs": [],
   "source": []
  },
  {
   "cell_type": "code",
   "execution_count": null,
   "metadata": {},
   "outputs": [],
   "source": []
  },
  {
   "cell_type": "markdown",
   "metadata": {},
   "source": [
    "## Jupyter Notebook中的函数"
   ]
  },
  {
   "cell_type": "code",
   "execution_count": null,
   "metadata": {},
   "outputs": [],
   "source": []
  },
  {
   "cell_type": "markdown",
   "metadata": {},
   "source": [
    "## Python中的函数"
   ]
  },
  {
   "cell_type": "markdown",
   "metadata": {},
   "source": [
    "### reshape函数中的参数"
   ]
  },
  {
   "cell_type": "markdown",
   "metadata": {},
   "source": [
    "X_flatten = X.reshape(X.shape[0], -1).T      # X.T is the transpose of X\n",
    "其中的这个参数-1 是一种模糊控制，即本句的意思是将Xreshape行数不变，列数无所谓的"
   ]
  },
  {
   "cell_type": "markdown",
   "metadata": {},
   "source": [
    "### assert函数的应用"
   ]
  },
  {
   "cell_type": "markdown",
   "metadata": {},
   "source": [
    "在开发一个程序时候，与其让它运行时崩溃，不如在它出现错误条件时就崩溃（返回错误）。这时候断言assert 就显得非常有用。\n"
   ]
  },
  {
   "cell_type": "markdown",
   "metadata": {},
   "source": [
    "assert的语法格式：\n",
    "assert expression\n",
    "\n",
    "这等价于下面这段代码："
   ]
  },
  {
   "cell_type": "code",
   "execution_count": null,
   "metadata": {},
   "outputs": [],
   "source": [
    "if not expression:\n",
    "    raise AssertionError"
   ]
  },
  {
   "cell_type": "code",
   "execution_count": null,
   "metadata": {},
   "outputs": [],
   "source": [
    "if 表达式的值为 True：\n",
    "    程序继续运行；\n",
    "else：     # 表示式的值为 False\n",
    "    程序引发 AssertionError 错误"
   ]
  },
  {
   "cell_type": "code",
   "execution_count": 20,
   "metadata": {
    "ExecuteTime": {
     "end_time": "2019-10-26T04:10:36.427085Z",
     "start_time": "2019-10-26T04:10:36.418590Z"
    }
   },
   "outputs": [
    {
     "ename": "AssertionError",
     "evalue": "",
     "output_type": "error",
     "traceback": [
      "\u001b[1;31m---------------------------------------------------------------------------\u001b[0m",
      "\u001b[1;31mAssertionError\u001b[0m                            Traceback (most recent call last)",
      "\u001b[1;32m<ipython-input-20-15f3bc93e6f4>\u001b[0m in \u001b[0;36m<module>\u001b[1;34m\u001b[0m\n\u001b[0;32m      1\u001b[0m \u001b[0mage\u001b[0m \u001b[1;33m=\u001b[0m \u001b[1;36m90\u001b[0m\u001b[1;33m\u001b[0m\u001b[0m\n\u001b[0;32m      2\u001b[0m \u001b[0mwage\u001b[0m \u001b[1;33m=\u001b[0m \u001b[0mint\u001b[0m\u001b[1;33m(\u001b[0m\u001b[0mage\u001b[0m\u001b[1;33m)\u001b[0m\u001b[1;33m\u001b[0m\u001b[0m\n\u001b[1;32m----> 3\u001b[1;33m \u001b[1;32massert\u001b[0m \u001b[1;33m(\u001b[0m\u001b[1;36m20\u001b[0m\u001b[1;33m<\u001b[0m\u001b[0mwage\u001b[0m\u001b[1;33m<\u001b[0m\u001b[1;36m80\u001b[0m\u001b[1;33m)\u001b[0m\u001b[1;33m\u001b[0m\u001b[0m\n\u001b[0m\u001b[0;32m      4\u001b[0m \u001b[0mprint\u001b[0m\u001b[1;33m(\u001b[0m\u001b[1;34m\"11\"\u001b[0m\u001b[1;33m)\u001b[0m\u001b[1;33m\u001b[0m\u001b[0m\n",
      "\u001b[1;31mAssertionError\u001b[0m: "
     ]
    }
   ],
   "source": [
    "age = 90 #70\n",
    "wage = int(age)\n",
    "assert (20<wage<80)\n",
    "print(\"11\")"
   ]
  },
  {
   "cell_type": "markdown",
   "metadata": {},
   "source": [
    "isinstance(b, float) 这个函数可以判断b的类型，返回True或者False"
   ]
  },
  {
   "cell_type": "code",
   "execution_count": null,
   "metadata": {},
   "outputs": [],
   "source": []
  },
  {
   "cell_type": "code",
   "execution_count": null,
   "metadata": {},
   "outputs": [],
   "source": []
  },
  {
   "cell_type": "code",
   "execution_count": null,
   "metadata": {},
   "outputs": [],
   "source": []
  },
  {
   "cell_type": "code",
   "execution_count": null,
   "metadata": {},
   "outputs": [],
   "source": []
  }
 ],
 "metadata": {
  "kernelspec": {
   "display_name": "Python 3",
   "language": "python",
   "name": "python3"
  },
  "language_info": {
   "codemirror_mode": {
    "name": "ipython",
    "version": 3
   },
   "file_extension": ".py",
   "mimetype": "text/x-python",
   "name": "python",
   "nbconvert_exporter": "python",
   "pygments_lexer": "ipython3",
   "version": "3.6.6"
  },
  "latex_envs": {
   "LaTeX_envs_menu_present": true,
   "autoclose": false,
   "autocomplete": true,
   "bibliofile": "biblio.bib",
   "cite_by": "apalike",
   "current_citInitial": 1,
   "eqLabelWithNumbers": true,
   "eqNumInitial": 1,
   "hotkeys": {
    "equation": "Ctrl-E",
    "itemize": "Ctrl-I"
   },
   "labels_anchors": false,
   "latex_user_defs": false,
   "report_style_numbering": false,
   "user_envs_cfg": false
  },
  "toc": {
   "base_numbering": 1,
   "nav_menu": {},
   "number_sections": true,
   "sideBar": true,
   "skip_h1_title": false,
   "title_cell": "Table of Contents",
   "title_sidebar": "Contents",
   "toc_cell": false,
   "toc_position": {},
   "toc_section_display": true,
   "toc_window_display": false
  },
  "varInspector": {
   "cols": {
    "lenName": 16,
    "lenType": 16,
    "lenVar": 40
   },
   "kernels_config": {
    "python": {
     "delete_cmd_postfix": "",
     "delete_cmd_prefix": "del ",
     "library": "var_list.py",
     "varRefreshCmd": "print(var_dic_list())"
    },
    "r": {
     "delete_cmd_postfix": ") ",
     "delete_cmd_prefix": "rm(",
     "library": "var_list.r",
     "varRefreshCmd": "cat(var_dic_list()) "
    }
   },
   "types_to_exclude": [
    "module",
    "function",
    "builtin_function_or_method",
    "instance",
    "_Feature"
   ],
   "window_display": false
  }
 },
 "nbformat": 4,
 "nbformat_minor": 2
}
